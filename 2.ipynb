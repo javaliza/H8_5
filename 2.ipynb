{
 "cells": [
  {
   "cell_type": "markdown",
   "metadata": {},
   "source": [
    "## Sesi 2"
   ]
  },
  {
   "cell_type": "code",
   "execution_count": 40,
   "metadata": {},
   "outputs": [
    {
     "name": "stdout",
     "output_type": "stream",
     "text": [
      "11\n",
      "kelas dari b adalah <class 'int'>\n"
     ]
    }
   ],
   "source": [
    "## code \n",
    "a = 5\n",
    "b = 6\n",
    "print(a+b)\n",
    "print('kelas dari b adalah',type(b))"
   ]
  },
  {
   "cell_type": "code",
   "execution_count": 41,
   "metadata": {},
   "outputs": [
    {
     "name": "stdout",
     "output_type": "stream",
     "text": [
      "true\n",
      "bener\n",
      "bener\n",
      "gabener\n",
      "ya\n"
     ]
    }
   ],
   "source": [
    "x = 5\n",
    "y = 0\n",
    "\n",
    "if x > y : \n",
    "    print(\"true\")\n",
    "\n",
    "if x > 0 : \n",
    "    print(\"bener\")\n",
    "\n",
    "## tupple\n",
    "if True : (\n",
    "    print(\"bener\"),\n",
    "    \n",
    "    print(\"gabener\")\n",
    ")\n",
    "    \n",
    "# code block nested\n",
    "if True :\n",
    "    print(\"ya\")\n",
    "    if False :\n",
    "        print(\"no\")"
   ]
  },
  {
   "cell_type": "markdown",
   "metadata": {},
   "source": [
    "## IF "
   ]
  },
  {
   "cell_type": "code",
   "execution_count": 42,
   "metadata": {},
   "outputs": [
    {
     "name": "stdout",
     "output_type": "stream",
     "text": [
      "outer cond benar\n",
      "cond a\n",
      "b\n",
      "a\n",
      "b\n",
      "x\n",
      "y\n"
     ]
    }
   ],
   "source": [
    "if \"foo\" in [\"foo\", \"bar\", \"baz\"]:\n",
    "    print(\"outer cond benar\")\n",
    "    \n",
    "    if 10 < 20:\n",
    "        print(\"cond a\")\n",
    "    \n",
    "if False : \n",
    "    print(\"a\")\n",
    "else:\n",
    "    print(\"b\")    \n",
    "    \n",
    "# one line\n",
    "if True: print(\"a\"), print(\"b\")\n",
    "if True: print(\"x\"); print(\"y\")\n"
   ]
  },
  {
   "cell_type": "code",
   "execution_count": 43,
   "metadata": {},
   "outputs": [
    {
     "name": "stdout",
     "output_type": "stream",
     "text": [
      "uang ga cukup\n"
     ]
    }
   ],
   "source": [
    "harga_buku = 20000\n",
    "harga_komik = 5000\n",
    "uang = 2000\n",
    "\n",
    "if uang > harga_buku:\n",
    "    print(\"beli buku\")\n",
    "elif uang > harga_komik:\n",
    "    print(\"beli komik\")\n",
    "else: \n",
    "    print(\"uang ga cukup\")"
   ]
  },
  {
   "cell_type": "markdown",
   "metadata": {},
   "source": [
    "## Ternary"
   ]
  },
  {
   "cell_type": "code",
   "execution_count": 23,
   "metadata": {},
   "outputs": [
    {
     "data": {
      "text/plain": [
       "'adult'"
      ]
     },
     "execution_count": 23,
     "metadata": {},
     "output_type": "execute_result"
    }
   ],
   "source": [
    "age = 24 \n",
    "s = \"teen\" if age < 21 else \"adult\"\n",
    "s"
   ]
  },
  {
   "cell_type": "code",
   "execution_count": 2,
   "metadata": {},
   "outputs": [
    {
     "data": {
      "text/plain": [
       "'old'"
      ]
     },
     "execution_count": 2,
     "metadata": {},
     "output_type": "execute_result"
    }
   ],
   "source": [
    "age = 24\n",
    "if age < 21:\n",
    "    s = \"teen\"\n",
    "else:\n",
    "    s = \"old\"\n",
    "s"
   ]
  },
  {
   "cell_type": "code",
   "execution_count": 62,
   "metadata": {},
   "outputs": [
    {
     "name": "stdout",
     "output_type": "stream",
     "text": [
      "go to the beach\n"
     ]
    }
   ],
   "source": [
    "raining = False\n",
    "print(\"go to the\", \"beach\" if not raining else \"library\")"
   ]
  },
  {
   "cell_type": "markdown",
   "metadata": {},
   "source": [
    "## pass"
   ]
  },
  {
   "cell_type": "code",
   "execution_count": null,
   "metadata": {},
   "outputs": [
    {
     "name": "stdout",
     "output_type": "stream",
     "text": [
      "a\n"
     ]
    }
   ],
   "source": [
    "## pass untuk skip code\n",
    "\n",
    "if True: \n",
    "    pass\n",
    "print(\"a\")"
   ]
  },
  {
   "cell_type": "markdown",
   "metadata": {},
   "source": [
    "## While Loop\n"
   ]
  },
  {
   "cell_type": "code",
   "execution_count": null,
   "metadata": {},
   "outputs": [
    {
     "name": "stdout",
     "output_type": "stream",
     "text": [
      "terus\n",
      "1\n",
      "terus\n",
      "2\n",
      "terus\n",
      "3\n",
      "terus\n",
      "4\n",
      "terus\n",
      "5\n"
     ]
    }
   ],
   "source": [
    "a = 0\n",
    "while a < 5: \n",
    "    print(\"terus\")\n",
    "    a -= -1\n",
    "    print(a)"
   ]
  },
  {
   "cell_type": "markdown",
   "metadata": {},
   "source": [
    "## break and continue \n"
   ]
  },
  {
   "cell_type": "code",
   "execution_count": null,
   "metadata": {},
   "outputs": [
    {
     "name": "stdout",
     "output_type": "stream",
     "text": [
      "di dalam while\n",
      "di luar while\n"
     ]
    }
   ],
   "source": [
    "while True:\n",
    "    print(\"di dalam while\")\n",
    "    break \n",
    "print(\"di luar while\")"
   ]
  },
  {
   "cell_type": "code",
   "execution_count": 64,
   "metadata": {},
   "outputs": [
    {
     "name": "stdout",
     "output_type": "stream",
     "text": [
      "1\n",
      "2\n",
      "3\n",
      "4\n",
      "5\n",
      "6\n",
      "7\n",
      "8\n",
      "9\n",
      "n terakhir 9\n",
      "selesai\n"
     ]
    }
   ],
   "source": [
    "n = 1\n",
    "while n < 11:\n",
    "    print(n)\n",
    "    if n == 9:\n",
    "        break\n",
    "    n += 1\n",
    "print(\"n terakhir\", n)\n",
    "print(\"selesai\")"
   ]
  },
  {
   "cell_type": "code",
   "execution_count": 69,
   "metadata": {},
   "outputs": [
    {
     "name": "stdout",
     "output_type": "stream",
     "text": [
      "1\n",
      "2\n",
      "3\n",
      "4\n",
      "6\n",
      "7\n",
      "8\n",
      "9\n",
      "10\n",
      "11\n",
      "n terakhir 11\n",
      "selesai\n"
     ]
    }
   ],
   "source": [
    "n = 0\n",
    "while n < 11:\n",
    "    n += 1\n",
    "    if n == 5:\n",
    "        continue    \n",
    "    print(n)\n",
    "print(\"n terakhir\", n)\n",
    "print(\"selesai\")"
   ]
  },
  {
   "cell_type": "code",
   "execution_count": 78,
   "metadata": {},
   "outputs": [
    {
     "name": "stdout",
     "output_type": "stream",
     "text": [
      "9\n",
      "8\n",
      "7\n",
      "6\n",
      "5\n",
      "selesai\n"
     ]
    }
   ],
   "source": [
    "n = 10   \n",
    "while n > 5:\n",
    "    n -= 1\n",
    "    print(n)\n",
    "else:\n",
    "    print(\"selesai\")"
   ]
  },
  {
   "cell_type": "markdown",
   "metadata": {},
   "source": [
    "## Truthly and Falsy"
   ]
  },
  {
   "cell_type": "code",
   "execution_count": null,
   "metadata": {},
   "outputs": [
    {
     "name": "stdout",
     "output_type": "stream",
     "text": [
      "True\n",
      "True\n",
      "False\n",
      "========\n",
      "True\n"
     ]
    }
   ],
   "source": [
    "print(bool(5))\n",
    "print(bool(True))   \n",
    "print(bool(False))\n",
    "\n",
    "print(\"=\" * 8)\n",
    "\n",
    "print(bool(\"o\"))"
   ]
  },
  {
   "cell_type": "code",
   "execution_count": null,
   "metadata": {},
   "outputs": [
    {
     "name": "stdout",
     "output_type": "stream",
     "text": [
      "['foo', 'bar']\n",
      "bar\n",
      "['foo']\n"
     ]
    }
   ],
   "source": [
    "a = [\"foo\", \"bar\"]\n",
    "print(a)\n",
    "print(a.pop())\n",
    "print(a)\n"
   ]
  },
  {
   "cell_type": "code",
   "execution_count": null,
   "metadata": {},
   "outputs": [
    {
     "name": "stdout",
     "output_type": "stream",
     "text": [
      "foo\n",
      "> baz\n",
      "> qux\n",
      ">inner loop selesai\n",
      "bar\n",
      "> baz\n",
      "> qux\n",
      ">inner loop selesai\n",
      "outer loop selesai\n"
     ]
    }
   ],
   "source": [
    "a = [\"foo\", \"bar\"]\n",
    "\n",
    "while len(a):\n",
    "    print(a.pop(0))\n",
    "    \n",
    "    b = [\"baz\", 'qux']\n",
    "    \n",
    "    while len(b):\n",
    "        print(\">\", b.pop(0))\n",
    "    else:\n",
    "        print(\">inner loop selesai\")\n",
    "else: \n",
    "    print(\"outer loop selesai\")"
   ]
  },
  {
   "cell_type": "markdown",
   "metadata": {},
   "source": [
    "## For Loop\n"
   ]
  },
  {
   "cell_type": "code",
   "execution_count": null,
   "metadata": {},
   "outputs": [
    {
     "data": {
      "text/plain": [
       "('foz', 'bar')"
      ]
     },
     "execution_count": 50,
     "metadata": {},
     "output_type": "execute_result"
    }
   ],
   "source": [
    "(\"foz\", \"bar\")"
   ]
  },
  {
   "cell_type": "code",
   "execution_count": null,
   "metadata": {},
   "outputs": [
    {
     "data": {
      "text/plain": [
       "['foz', 'bar']"
      ]
     },
     "execution_count": 51,
     "metadata": {},
     "output_type": "execute_result"
    }
   ],
   "source": [
    "\n",
    "[\"foz\", \"bar\"]"
   ]
  },
  {
   "cell_type": "code",
   "execution_count": null,
   "metadata": {},
   "outputs": [
    {
     "data": {
      "text/plain": [
       "range(0, 5)"
      ]
     },
     "execution_count": 52,
     "metadata": {},
     "output_type": "execute_result"
    }
   ],
   "source": [
    "range(5)"
   ]
  },
  {
   "cell_type": "code",
   "execution_count": null,
   "metadata": {},
   "outputs": [
    {
     "data": {
      "text/plain": [
       "[0, 1, 2, 3, 4]"
      ]
     },
     "execution_count": 53,
     "metadata": {},
     "output_type": "execute_result"
    }
   ],
   "source": [
    "list (range(5))"
   ]
  },
  {
   "cell_type": "code",
   "execution_count": null,
   "metadata": {},
   "outputs": [
    {
     "name": "stdout",
     "output_type": "stream",
     "text": [
      "foo\n",
      "bar\n"
     ]
    }
   ],
   "source": [
    "for i in [\"foo\", \"bar\"]:\n",
    "    print(i)"
   ]
  },
  {
   "cell_type": "code",
   "execution_count": null,
   "metadata": {},
   "outputs": [
    {
     "name": "stdout",
     "output_type": "stream",
     "text": [
      "foo\n",
      "bar\n"
     ]
    }
   ],
   "source": [
    "for i in (\"foo\", \"bar\"):\n",
    "    print(i)"
   ]
  },
  {
   "cell_type": "code",
   "execution_count": null,
   "metadata": {},
   "outputs": [
    {
     "name": "stdout",
     "output_type": "stream",
     "text": [
      "foo\n",
      "bar\n"
     ]
    }
   ],
   "source": [
    "for i in {\"foo\", \"bar\"}:\n",
    "    print(i)"
   ]
  },
  {
   "cell_type": "code",
   "execution_count": 8,
   "metadata": {},
   "outputs": [
    {
     "name": "stdout",
     "output_type": "stream",
     "text": [
      "foo\n",
      "bar\n",
      "baz\n",
      "--------\n",
      "1\n",
      "2\n",
      "3\n",
      "--------\n",
      "('foo', 1)\n",
      "('bar', 2)\n",
      "('baz', 3)\n",
      "--------\n",
      "foo 1\n",
      "bar 2\n",
      "baz 3\n"
     ]
    }
   ],
   "source": [
    "d = {\"foo\" : 1, \"bar\" : 2, \"baz\" : 3}\n",
    "\n",
    "for a in d:\n",
    "    print(a)\n",
    "        \n",
    "print(\"-\" * 8)   \n",
    "\n",
    "for v in d.values():\n",
    "    print(v)\n",
    "\n",
    "print(\"-\" * 8)    \n",
    "\n",
    "for i in d.items():\n",
    "    print(i)\n",
    "    \n",
    "print(\"-\" * 8)  \n",
    "    \n",
    "for i, v in d.items():\n",
    "    print(i, v)"
   ]
  },
  {
   "cell_type": "code",
   "execution_count": 11,
   "metadata": {},
   "outputs": [
    {
     "name": "stdout",
     "output_type": "stream",
     "text": [
      "foo\n",
      "qux\n",
      "loop selesai\n"
     ]
    }
   ],
   "source": [
    "for i in {\"foo\", \"bar\", \"baz\", \"qux\"}:\n",
    "    if \"b\" in i:\n",
    "        continue\n",
    "    print(i)\n",
    "else:\n",
    "    print(\"loop selesai\")"
   ]
  },
  {
   "cell_type": "markdown",
   "metadata": {},
   "source": [
    "## range(start,stop,step)"
   ]
  },
  {
   "cell_type": "code",
   "execution_count": null,
   "metadata": {},
   "outputs": [
    {
     "data": {
      "text/plain": [
       "[10, 9, 8, 7, 6, 5, 4, 3]"
      ]
     },
     "execution_count": 58,
     "metadata": {},
     "output_type": "execute_result"
    }
   ],
   "source": [
    "list(range(10,2,-1))"
   ]
  },
  {
   "cell_type": "code",
   "execution_count": null,
   "metadata": {},
   "outputs": [
    {
     "name": "stdout",
     "output_type": "stream",
     "text": [
      "15\n",
      "13\n",
      "11\n",
      "9\n",
      "7\n",
      "5\n",
      "3\n",
      "1\n"
     ]
    }
   ],
   "source": [
    "for i in range(15,0,-2):\n",
    "    print(i)"
   ]
  },
  {
   "cell_type": "code",
   "execution_count": null,
   "metadata": {},
   "outputs": [
    {
     "name": "stdout",
     "output_type": "stream",
     "text": [
      "r\n",
      "a\n",
      "n\n",
      "g\n",
      "e\n"
     ]
    }
   ],
   "source": [
    "for i in \"range\":\n",
    "    print(i)"
   ]
  },
  {
   "cell_type": "code",
   "execution_count": 80,
   "metadata": {},
   "outputs": [
    {
     "name": "stdout",
     "output_type": "stream",
     "text": [
      "100C\n",
      "100\n",
      "C\n",
      "212.0\n"
     ]
    }
   ],
   "source": [
    "temp = input(\"Input = temperatur \")\n",
    "degree = int(temp[:-1])\n",
    "i_convertion = temp[-1]\n",
    "\n",
    "if i_convertion == \"C\":\n",
    "    result = (9 * degree) / 5 + 32\n",
    "\n",
    "print(temp)\n",
    "print(degree)\n",
    "print(i_convertion)\n",
    "print(result)"
   ]
  },
  {
   "cell_type": "code",
   "execution_count": 19,
   "metadata": {},
   "outputs": [
    {
     "name": "stdout",
     "output_type": "stream",
     "text": [
      "Program Konversi Celsius ke Fahrenheit\n",
      "----------------------------------------\n",
      "temperaturnya adalah =  212.0F\n"
     ]
    }
   ],
   "source": [
    "while True:\n",
    "    temp = input(\"Input = temperatur \")\n",
    "    degree = int(temp[:-1])\n",
    "    i_convertion = temp[-1]\n",
    "\n",
    "    if i_convertion == \"C\":\n",
    "        o_convertion = \"F\"\n",
    "        result_calc = (9 * degree) / 5 + 32\n",
    "        break\n",
    "    elif i_convertion == \"F\":\n",
    "        o_convertion = \"C\"\n",
    "        result_calc = int(round(degree - 32) * 5 / 9 )\n",
    "        break    \n",
    "    else:\n",
    "        print(\"Masukkan input yang benar\")\n",
    "\n",
    "print(\"Program Konversi Celsius ke Fahrenheit\")\n",
    "print(\"-\" * 40)\n",
    "result = f\"{result_calc}{o_convertion}\"\n",
    "\n",
    "print(\"temperaturnya adalah = \", result)"
   ]
  },
  {
   "cell_type": "code",
   "execution_count": 20,
   "metadata": {},
   "outputs": [
    {
     "name": "stdout",
     "output_type": "stream",
     "text": [
      "a\n",
      "aaaaa\n",
      "wqewqeq\n",
      "stop\n"
     ]
    }
   ],
   "source": [
    "while True:\n",
    "    msg = input(\"masukkan karakter = \").lower()\n",
    "    print(msg)\n",
    "    if msg == \"stop\":\n",
    "        break"
   ]
  }
 ],
 "metadata": {
  "kernelspec": {
   "display_name": "pyt",
   "language": "python",
   "name": "python3"
  },
  "language_info": {
   "codemirror_mode": {
    "name": "ipython",
    "version": 3
   },
   "file_extension": ".py",
   "mimetype": "text/x-python",
   "name": "python",
   "nbconvert_exporter": "python",
   "pygments_lexer": "ipython3",
   "version": "3.11.4"
  },
  "orig_nbformat": 4
 },
 "nbformat": 4,
 "nbformat_minor": 2
}
